{
 "cells": [
  {
   "cell_type": "markdown",
   "id": "24ccfe58-11bb-4efe-b9bd-f94eaa8404e4",
   "metadata": {},
   "source": [
    "## How to load the different datasets in ML4AlgComb\n",
    "\n",
    "This notebook shows how to load the datasets and how to create dataloaders that you can use for model training. "
   ]
  },
  {
   "cell_type": "code",
   "execution_count": 2,
   "id": "83eaa162-e11c-46a8-88ee-968719c5b22d",
   "metadata": {},
   "outputs": [],
   "source": [
    "%load_ext autoreload\n",
    "%autoreload 2"
   ]
  },
  {
   "cell_type": "code",
   "execution_count": 3,
   "id": "e5fab1c6-fe1a-4981-a395-fbc36c75eead",
   "metadata": {},
   "outputs": [],
   "source": [
    "from load_datasets import get_dataset\n",
    "from dataloaders import CombDataModule, OneHotDataModule"
   ]
  },
  {
   "cell_type": "markdown",
   "id": "2407e3f0-a42a-4b38-8f39-0346ea17acb4",
   "metadata": {},
   "source": [
    "FOLDER is the filepath to the folder containing the various datasets. "
   ]
  },
  {
   "cell_type": "code",
   "execution_count": 4,
   "id": "c4eca861-4f14-43b9-a881-3de6b496bad1",
   "metadata": {},
   "outputs": [],
   "source": [
    "FOLDER = \"data/\""
   ]
  },
  {
   "cell_type": "markdown",
   "id": "f4d141a3-3f4d-42c9-92d2-6371c3b87312",
   "metadata": {},
   "source": [
    "## Grassmannian cluster algebras"
   ]
  },
  {
   "cell_type": "code",
   "execution_count": null,
   "id": "33e6d0e6-c26d-4b43-b94b-ed1f40a23004",
   "metadata": {},
   "outputs": [],
   "source": [
    "dataset_name = \"grassmannian_cluster_algebras\"\n",
    "N = 12 # only one value of N supported\n",
    "X_train, y_train, X_test, y_test, input_size, output_size, num_tokens = get_dataset(data = dataset_name, n = N, folder = FOLDER)"
   ]
  },
  {
   "cell_type": "code",
   "execution_count": null,
   "id": "a3876b9a-0480-432c-81d8-3b93d452cdb4",
   "metadata": {},
   "outputs": [],
   "source": [
    "len([x for x in y_train if x ==1] + [x for x in y_test if x ==1] )"
   ]
  },
  {
   "cell_type": "code",
   "execution_count": null,
   "id": "f1683ee4-bcac-481f-85eb-6079e30b8154",
   "metadata": {},
   "outputs": [],
   "source": [
    "len([x for x in y_train if x ==0] + [x for x in y_test if x ==0] )"
   ]
  },
  {
   "cell_type": "code",
   "execution_count": null,
   "id": "2b2d66a0-e6b0-43d7-bbc0-a41a3647b460",
   "metadata": {},
   "outputs": [],
   "source": [
    "batch_size_choice = 32\n",
    "data_module = CombDataModule(X_train, y_train, X_test, y_test, batch_size=batch_size_choice)\n",
    "data_module.setup()"
   ]
  },
  {
   "cell_type": "code",
   "execution_count": null,
   "id": "0c576fed-9bca-49d4-a810-d8c46e9f1a58",
   "metadata": {},
   "outputs": [],
   "source": [
    "for seq, labs in data_module.train_dataloader():\n",
    "    print(seq)\n",
    "    print(labs)\n",
    "    break"
   ]
  },
  {
   "cell_type": "markdown",
   "id": "da8f4343-f68f-4a92-9c88-d73eac4953e8",
   "metadata": {},
   "source": [
    "## KL polynomial coefficients"
   ]
  },
  {
   "cell_type": "code",
   "execution_count": null,
   "id": "8f7954d7-1a46-4a21-8215-e891da548c6b",
   "metadata": {},
   "outputs": [],
   "source": [
    "dataset_name = \"kl_polynomial\"\n",
    "N = 7 # N = 5, 6, or 7 supported\n",
    "X_train, y_train, X_test, y_test, input_size, output_size, num_tokens = get_dataset(data = dataset_name, n = N, folder = FOLDER)"
   ]
  },
  {
   "cell_type": "code",
   "execution_count": 110,
   "id": "88aa2b32-e33f-4901-a6b0-a1dacd0f2e5b",
   "metadata": {},
   "outputs": [],
   "source": [
    "batch_size_choice = 32\n",
    "data_module = CombDataModule(X_train, y_train, X_test, y_test, batch_size=batch_size_choice)\n",
    "data_module.setup()"
   ]
  },
  {
   "cell_type": "code",
   "execution_count": null,
   "id": "662d682b-c27b-4dfe-82dc-55c7aa4b6dad",
   "metadata": {},
   "outputs": [],
   "source": [
    "for seq, labs in data_module.train_dataloader():\n",
    "    print(seq)\n",
    "    print(labs)\n",
    "    break"
   ]
  },
  {
   "cell_type": "markdown",
   "id": "5a103af5-e014-4fc6-b286-75d2b1708ead",
   "metadata": {},
   "source": [
    "## Lattice path posets"
   ]
  },
  {
   "cell_type": "code",
   "execution_count": null,
   "id": "f5236565-5534-4956-909d-d57ed097861d",
   "metadata": {},
   "outputs": [],
   "source": [
    "dataset_name = \"lattice_path\"\n",
    "N = 13 #N = 10, 11, 12, 13 supported\n",
    "X_train, y_train, X_test, y_test, input_size, output_size, num_tokens = get_dataset(data = dataset_name, n = N, folder = FOLDER)"
   ]
  },
  {
   "cell_type": "code",
   "execution_count": null,
   "id": "94bab4e9-9f5e-451c-9a16-bd323f21112f",
   "metadata": {},
   "outputs": [],
   "source": [
    "#This is not a balanced dataset\n",
    "len([x for x in y_train if x ==0] + [x for x in y_test if x ==0] )/(len(y_train) + len(y_test))"
   ]
  },
  {
   "cell_type": "code",
   "execution_count": 107,
   "id": "e3218d2f-db87-40b9-9765-66737abf341c",
   "metadata": {},
   "outputs": [],
   "source": [
    "batch_size_choice = 32\n",
    "data_module = CombDataModule(X_train, y_train, X_test, y_test, batch_size=batch_size_choice)\n",
    "data_module.setup()"
   ]
  },
  {
   "cell_type": "code",
   "execution_count": null,
   "id": "7b12cc1e-fbe4-4997-ac7b-cfa59bd23157",
   "metadata": {},
   "outputs": [],
   "source": [
    "for seq, labs in data_module.train_dataloader():\n",
    "    print(seq)\n",
    "    print(labs)\n",
    "    break"
   ]
  },
  {
   "cell_type": "markdown",
   "id": "dde59bc0-7658-49b9-a6fd-20dca5956a7d",
   "metadata": {},
   "source": [
    "## mHeight"
   ]
  },
  {
   "cell_type": "code",
   "execution_count": null,
   "id": "96d934c2-607d-4022-a2d8-9e1166523c3e",
   "metadata": {},
   "outputs": [],
   "source": [
    "dataset_name = \"mheight\"\n",
    "N = 11 #N = 8, 9, or 10 are supported\n",
    "X_train, y_train, X_test, y_test, input_size, output_size, num_tokens = get_dataset(data = dataset_name, n = N, folder = FOLDER)"
   ]
  },
  {
   "cell_type": "code",
   "execution_count": 27,
   "id": "fdfac3a4-a322-491b-be63-ac4e7bf77000",
   "metadata": {},
   "outputs": [],
   "source": [
    "batch_size_choice = 32\n",
    "data_module = CombDataModule(X_train, y_train, X_test, y_test, batch_size=batch_size_choice)\n",
    "data_module.setup()"
   ]
  },
  {
   "cell_type": "code",
   "execution_count": null,
   "id": "738c912c-6512-4a4a-91bc-355bf0944b51",
   "metadata": {},
   "outputs": [],
   "source": [
    "for seq, labs in data_module.train_dataloader():\n",
    "    print(seq)\n",
    "    print(labs)\n",
    "    break"
   ]
  },
  {
   "cell_type": "markdown",
   "id": "51b2b98d-33f4-421a-a4e3-349fa22032e7",
   "metadata": {},
   "source": [
    "## Quiver mutation equivalence"
   ]
  },
  {
   "cell_type": "code",
   "execution_count": null,
   "id": "32d3f833-755f-4f5b-ac8b-8f66e206b664",
   "metadata": {},
   "outputs": [],
   "source": [
    "dataset_name = \"quiver\"\n",
    "N = 11 #This is the only value of N supported\n",
    "X_train, y_train, X_test, y_test, input_size, output_size, num_tokens = get_dataset(data = dataset_name, n = N, folder = FOLDER)"
   ]
  },
  {
   "cell_type": "code",
   "execution_count": null,
   "id": "3360a4b7-7e69-4e66-9c63-6e168876eda6",
   "metadata": {},
   "outputs": [],
   "source": [
    "#This is not a balanced dataset\n",
    "for i in range(7):\n",
    "    print( (len([x for x in y_train if x ==i]) + len([x for x in y_test if x ==i]) ) /(len(y_train) + len(y_test)) )"
   ]
  },
  {
   "cell_type": "code",
   "execution_count": 104,
   "id": "5dcdcfa3-cedc-4268-8449-ed5ee67dbfd9",
   "metadata": {},
   "outputs": [],
   "source": [
    "batch_size_choice = 32\n",
    "data_module = CombDataModule(X_train, y_train, X_test, y_test, batch_size=batch_size_choice)\n",
    "data_module.setup()"
   ]
  },
  {
   "cell_type": "code",
   "execution_count": null,
   "id": "ea457c26-5c4a-4cde-aa56-b147d9061ee5",
   "metadata": {},
   "outputs": [],
   "source": [
    "for seq, labs in data_module.train_dataloader():\n",
    "    print(seq)\n",
    "    print(labs)\n",
    "    break"
   ]
  },
  {
   "cell_type": "markdown",
   "id": "adb204cf-4b88-473a-b355-d1f6f5661af8",
   "metadata": {},
   "source": [
    "## RSK"
   ]
  },
  {
   "cell_type": "code",
   "execution_count": null,
   "id": "a73d8c40-0c04-4be9-bd46-f19d51ab03e2",
   "metadata": {},
   "outputs": [],
   "source": [
    "N = 10\n",
    "dataset_name = \"rsk\"\n",
    "X_train, y_train, X_test, y_test, input_size, output_size, num_tokens = get_dataset(data = dataset_name, n = N, folder = FOLDER)"
   ]
  },
  {
   "cell_type": "code",
   "execution_count": null,
   "id": "7d8cb87f-72d6-4d3f-9ebe-9f1b2571fd06",
   "metadata": {},
   "outputs": [],
   "source": [
    "len(X_train) + len(X_test)"
   ]
  },
  {
   "cell_type": "code",
   "execution_count": 100,
   "id": "6232b215-59c3-470f-84a9-7f0a7a267ab8",
   "metadata": {},
   "outputs": [],
   "source": [
    "batch_size_choice = 32\n",
    "data_module = CombDataModule(X_train, y_train, X_test, y_test, batch_size=batch_size_choice)\n",
    "data_module.setup()"
   ]
  },
  {
   "cell_type": "code",
   "execution_count": null,
   "id": "ec3abe4d-41df-45ff-b84e-cb3fadc20ac5",
   "metadata": {},
   "outputs": [],
   "source": [
    "for seq, labs in data_module.train_dataloader():\n",
    "    print(seq)\n",
    "    print(labs)\n",
    "    break"
   ]
  },
  {
   "cell_type": "markdown",
   "id": "11582b2e-5084-4ff8-821e-d1f6ccd43add",
   "metadata": {},
   "source": [
    "## Schubert polynomials"
   ]
  },
  {
   "cell_type": "code",
   "execution_count": null,
   "id": "d1d61874-ad8d-4956-8bb7-d966c840d56b",
   "metadata": {},
   "outputs": [],
   "source": [
    "dataset_name = \"schubert\"\n",
    "N = 5 #N = 4, 5, 6 are suppored\n",
    "X_train, y_train, X_test, y_test, input_size, output_size, num_tokens = get_dataset(data = dataset_name, n = N, folder = FOLDER )"
   ]
  },
  {
   "cell_type": "code",
   "execution_count": 33,
   "id": "a502a471-62bd-44fc-832a-9baafecea2e9",
   "metadata": {},
   "outputs": [],
   "source": [
    "batch_size_choice = 32\n",
    "data_module = CombDataModule(X_train, y_train, X_test, y_test, batch_size=batch_size_choice)\n",
    "data_module.setup()"
   ]
  },
  {
   "cell_type": "code",
   "execution_count": null,
   "id": "d3e6188b-aa39-41f9-9862-a3c264aa1979",
   "metadata": {},
   "outputs": [],
   "source": [
    "for seq, labs in data_module.train_dataloader():\n",
    "    print(seq)\n",
    "    print(labs)\n",
    "    break"
   ]
  },
  {
   "cell_type": "markdown",
   "id": "16926410-8004-4619-aca8-36cde9f75c3e",
   "metadata": {},
   "source": [
    "## Symmetric group character"
   ]
  },
  {
   "cell_type": "code",
   "execution_count": null,
   "id": "38864746-e391-43c0-8e4e-fe0a1a8b392a",
   "metadata": {},
   "outputs": [],
   "source": [
    "dataset_name = \"symmetric_group_char\"\n",
    "N = 18 #N = 18, 20, 22 supported\n",
    "X_train, y_train, X_test, y_test, input_size, output_size, num_tokens = get_dataset(data = dataset_name, n = N, folder = FOLDER )"
   ]
  },
  {
   "cell_type": "code",
   "execution_count": 95,
   "id": "1c001d51-e95a-41f5-b923-36f6af189056",
   "metadata": {},
   "outputs": [],
   "source": [
    "batch_size_choice = 32\n",
    "data_module = CombDataModule(X_train, y_train, X_test, y_test, batch_size=batch_size_choice)\n",
    "data_module.setup()"
   ]
  },
  {
   "cell_type": "code",
   "execution_count": null,
   "id": "bd48543f-bb83-4e9f-814c-0febdf83b2a3",
   "metadata": {},
   "outputs": [],
   "source": [
    "for seq, labs in data_module.train_dataloader():\n",
    "    print(seq)\n",
    "    print(labs)\n",
    "    break"
   ]
  },
  {
   "cell_type": "code",
   "execution_count": 97,
   "id": "248720de-5aee-4332-aaa5-6fd54efe3611",
   "metadata": {},
   "outputs": [],
   "source": [
    "#Can also one-hot encode the data\n",
    "data_module = OneHotDataModule(X_train, y_train, X_test, y_test, num_tokens, batch_size=batch_size_choice)\n",
    "data_module.setup()\n",
    "input_size = input_size*num_tokens"
   ]
  },
  {
   "cell_type": "code",
   "execution_count": null,
   "id": "12b74ca1-d3e2-4809-856f-c4de7f43f3be",
   "metadata": {},
   "outputs": [],
   "source": [
    "for seq, labs in data_module.train_dataloader():\n",
    "    print(seq)\n",
    "    print(labs)\n",
    "    break"
   ]
  },
  {
   "cell_type": "markdown",
   "id": "37f03326-7a08-4769-a973-bc538a60a7ea",
   "metadata": {},
   "source": [
    "## Weaving patterns"
   ]
  },
  {
   "cell_type": "code",
   "execution_count": null,
   "id": "432622cb-ae86-4ed4-a4da-8557e4996994",
   "metadata": {},
   "outputs": [],
   "source": [
    "dataset_name = \"weaving\"\n",
    "N = 6 #N = 6 or 7 supported\n",
    "X_train, y_train, X_test, y_test, input_size, output_size, num_tokens = get_dataset(data = dataset_name, n = N, folder = FOLDER )"
   ]
  },
  {
   "cell_type": "code",
   "execution_count": 143,
   "id": "edb93b18-aa92-4749-922e-79edbcf1aff0",
   "metadata": {},
   "outputs": [],
   "source": [
    "batch_size_choice = 32\n",
    "data_module = CombDataModule(X_train, y_train, X_test, y_test, batch_size=batch_size_choice)\n",
    "data_module.setup()"
   ]
  },
  {
   "cell_type": "code",
   "execution_count": null,
   "id": "4fc6ba10-3062-4532-b071-b85288f355d2",
   "metadata": {},
   "outputs": [],
   "source": [
    "for seq, labs in data_module.train_dataloader():\n",
    "    print(seq)\n",
    "    print(labs)\n",
    "    break"
   ]
  }
 ],
 "metadata": {
  "kernelspec": {
   "display_name": "ml4alg",
   "language": "python",
   "name": "python3"
  },
  "language_info": {
   "codemirror_mode": {
    "name": "ipython",
    "version": 3
   },
   "file_extension": ".py",
   "mimetype": "text/x-python",
   "name": "python",
   "nbconvert_exporter": "python",
   "pygments_lexer": "ipython3",
   "version": "3.11.11"
  }
 },
 "nbformat": 4,
 "nbformat_minor": 5
}
